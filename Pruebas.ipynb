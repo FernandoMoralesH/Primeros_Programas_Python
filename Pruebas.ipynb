{
 "cells": [
  {
   "cell_type": "markdown",
   "metadata": {},
   "source": [
    "# Realización de pruebas"
   ]
  },
  {
   "cell_type": "markdown",
   "metadata": {},
   "source": [
    "## Escenario\n",
    "\n",
    "Espatifilo, más comúnmente conocida como la planta de cuna de Moisés o flor de la paz, es una de las plantas para interiores más populares que filtra las toxinas dañinas del aire. Algunas de las toxinas que neutraliza incluyen benceno, formaldehído y amoníaco.\n",
    "\n",
    "Imagina que tu programa de computadora ama estas plantas. Cada vez que recibe una entrada en forma de la palabra Espatifilo, grita involuntariamente a la consola la siguiente cadena: \"¡Espatifilo es la mejor planta de todas!\"\n",
    "\n",
    "Escribe un programa que utilice el concepto de ejecución condicional, tome una cadena como entrada y que:\n",
    "\n",
    "    Imprima el enunciado \"Si, ¡El ESPATIFILIO! es la mejor planta de todos los tiempos!\" en la pantalla si la cadena ingresada es \"ESPATIFILIO\".\n",
    "    Imprima \"No, ¡quiero un gran ESPATIFILIO!\" si la cadena ingresada es \"espatifilo\".\n",
    "    Imprima \"¡ESPATIFILIO!, ¡No [entrada]!\" de lo contrario. Nota: [entrada] es la cadena que se toma como entrada.\n",
    "\n",
    "\n",
    "Prueba tu código con los datos que te proporcionamos. ¡Y hazte de un ESPATIFILIO también!"
   ]
  },
  {
   "cell_type": "code",
   "execution_count": 3,
   "metadata": {},
   "outputs": [],
   "source": [
    "# Mi codigo:\n",
    "\n",
    "nameFlower=input(\"Escribe el nombre de una planta: \")\n",
    "if nameFlower == 'ESPATIFILIO':\n",
    "     print('\"¡Espatifilo es la mejor planta de todas!\"')\n",
    "elif nameFlower == 'espatifilo':\n",
    "    print('\"No, ¡Quiero un gran ESPATIFILIO!\"')\n",
    "else:\n",
    "    print('\"¡ESPATIFILIO!, No', nameFlower,'\"')"
   ]
  },
  {
   "cell_type": "markdown",
   "metadata": {},
   "source": []
  },
  {
   "cell_type": "code",
   "execution_count": null,
   "metadata": {},
   "outputs": [],
   "source": [
    "income = float(input(\"Introduce el ingreso anual:\"))\n",
    "\n",
    "#\n",
    "# Escribe tu código aquí.\n",
    "#\n",
    "if income >=float(85528):\n",
    "    tax=(85528/100)*18+556\n",
    "    \n",
    "tax = round(tax, 0)\n",
    "print(\"El impuesto es:\", tax, \"pesos\")\n"
   ]
  }
 ],
 "metadata": {
  "kernelspec": {
   "display_name": "Python 3.10.6 64-bit (microsoft store)",
   "language": "python",
   "name": "python3"
  },
  "language_info": {
   "codemirror_mode": {
    "name": "ipython",
    "version": 3
   },
   "file_extension": ".py",
   "mimetype": "text/x-python",
   "name": "python",
   "nbconvert_exporter": "python",
   "pygments_lexer": "ipython3",
   "version": "3.10.6"
  },
  "orig_nbformat": 4,
  "vscode": {
   "interpreter": {
    "hash": "66eba28a75a64fbe1a9b9c30d27f7c856726c51cbbef86297708eae4ce175db0"
   }
  }
 },
 "nbformat": 4,
 "nbformat_minor": 2
}
