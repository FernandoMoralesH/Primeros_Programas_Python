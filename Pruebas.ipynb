{
 "cells": [
  {
   "cell_type": "markdown",
   "metadata": {},
   "source": [
    "# Realización de pruebas"
   ]
  },
  {
   "cell_type": "markdown",
   "metadata": {},
   "source": [
    "## Escenario\n",
    "\n",
    "Espatifilo, más comúnmente conocida como la planta de cuna de Moisés o flor de la paz, es una de las plantas para interiores más populares que filtra las toxinas dañinas del aire. Algunas de las toxinas que neutraliza incluyen benceno, formaldehído y amoníaco.\n",
    "\n",
    "Imagina que tu programa de computadora ama estas plantas. Cada vez que recibe una entrada en forma de la palabra Espatifilo, grita involuntariamente a la consola la siguiente cadena: \"¡Espatifilo es la mejor planta de todas!\"\n",
    "\n",
    "Escribe un programa que utilice el concepto de ejecución condicional, tome una cadena como entrada y que:\n",
    "\n",
    "    Imprima el enunciado \"Si, ¡El ESPATIFILIO! es la mejor planta de todos los tiempos!\" en la pantalla si la cadena ingresada es \"ESPATIFILIO\".\n",
    "    Imprima \"No, ¡quiero un gran ESPATIFILIO!\" si la cadena ingresada es \"espatifilo\".\n",
    "    Imprima \"¡ESPATIFILIO!, ¡No [entrada]!\" de lo contrario. Nota: [entrada] es la cadena que se toma como entrada.\n",
    "\n",
    "\n",
    "Prueba tu código con los datos que te proporcionamos. ¡Y hazte de un ESPATIFILIO también!"
   ]
  },
  {
   "cell_type": "code",
   "execution_count": 3,
   "metadata": {},
   "outputs": [],
   "source": [
    "# Mi codigo:\n",
    "\n",
    "nameFlower=input(\"Escribe el nombre de una planta: \")\n",
    "if nameFlower == 'ESPATIFILIO':\n",
    "     print('\"¡Espatifilo es la mejor planta de todas!\"')\n",
    "elif nameFlower == 'espatifilo':\n",
    "    print('\"No, ¡Quiero un gran ESPATIFILIO!\"')\n",
    "else:\n",
    "    print('\"¡ESPATIFILIO!, No', nameFlower,'\"')"
   ]
  },
  {
   "cell_type": "markdown",
   "metadata": {},
   "source": [
    "h6j9lOp0m6\n",
    "\n",
    "### Ejercicio para calcular Impuesto"
   ]
  },
  {
   "cell_type": "code",
   "execution_count": 29,
   "metadata": {},
   "outputs": [
    {
     "name": "stdout",
     "output_type": "stream",
     "text": [
      "El impuesto es: 0 pesos\n"
     ]
    }
   ],
   "source": [
    "income = float(input(\"Introduce el ingreso anual:\"))\n",
    "\n",
    "#\n",
    "# Escribe tu código aquí.\n",
    "#\n",
    "\n",
    "if income <=85528 :\n",
    "    tax=((income/100)*18)-556.02\n",
    "    tax = round(tax, 0)\n",
    "    if tax>=0:\n",
    "        print(\"El impuesto es:\", tax, \"pesos\")\n",
    "    else:\n",
    "         print(\"El impuesto es: 0 pesos\")\n",
    "elif income>=85529:\n",
    "        tax=14839.02+(((income-85528)/100)*32)\n",
    "        tax = round(tax, 0)\n",
    "        if tax>=0:\n",
    "            print(\"El impuesto es:\", tax, \"pesos\")\n",
    "        else:\n",
    "             print(\"El impuesto es: 0 pesos\")\n",
    "\n"
   ]
  },
  {
   "cell_type": "markdown",
   "metadata": {},
   "source": [
    "### Ejercicio para verifricar si un año es bisiseto:\n",
    "\n",
    "*_Pendiente para corregirlo y mejorarlo_*\n"
   ]
  },
  {
   "cell_type": "code",
   "execution_count": 42,
   "metadata": {},
   "outputs": [
    {
     "name": "stdout",
     "output_type": "stream",
     "text": [
      "Año no dentro del periodo del calendario Gregoriano\n"
     ]
    }
   ],
   "source": [
    "year = int(input(\"Introduce un año:\"))\n",
    "\n",
    "#\n",
    "# Escribe tu código aquí.\n",
    "#\t\n",
    "\n",
    "if year <=1581:\n",
    "    print(\"Año no dentro del periodo del calendario Gregoriano\")\n",
    "elif year%4!=0:\n",
    "    print(\"Año comun\")\n",
    "elif year%100==0 and year%400 ==0:\n",
    "    print(\"Año bisiesto\")\n",
    "else:\n",
    "    print(\"Año comun\")"
   ]
  },
  {
   "cell_type": "code",
   "execution_count": 43,
   "metadata": {},
   "outputs": [
    {
     "name": "stdout",
     "output_type": "stream",
     "text": [
      "True\n",
      "True\n",
      "else\n"
     ]
    }
   ],
   "source": [
    "x = 10\n",
    "\n",
    "if x == 10:\n",
    "    print(x == 10)\n",
    "if x > 5:\n",
    "    print(x > 5)\n",
    "if x < 10:\n",
    "    print(x < 10)\n",
    "else:\n",
    "    print(\"else\")"
   ]
  },
  {
   "cell_type": "code",
   "execution_count": 44,
   "metadata": {},
   "outputs": [
    {
     "data": {
      "text/plain": [
       "True"
      ]
     },
     "execution_count": 44,
     "metadata": {},
     "output_type": "execute_result"
    }
   ],
   "source": [
    "1==1.0"
   ]
  },
  {
   "cell_type": "code",
   "execution_count": 45,
   "metadata": {},
   "outputs": [
    {
     "name": "stdout",
     "output_type": "stream",
     "text": [
      "El número más grande es: 36\n"
     ]
    }
   ],
   "source": [
    "# Almacena el actual número más grande aquí.\n",
    "largest_number = -999999999\n",
    "\n",
    "# Ingresa el primer valor.\n",
    "number = int(input(\"Introduce un número o escribe -1 para detener: \"))\n",
    "\n",
    "# Si el número no es igual a -1, continuaremos\n",
    "while number != -1:\n",
    "    # ¿Es el número más grande que el valor de largest_number?\n",
    "    if number > largest_number:\n",
    "        # Sí si, se actualiza largest_number.\n",
    "        largest_number = number\n",
    "    # Ingresa el siguiente número.\n",
    "    number = int(input(\"Introduce un número o escribe -1 para detener: \"))\n",
    "\n",
    "# Imprime el número más grande\n",
    "print(\"El número más grande es:\", largest_number)\n",
    "\n"
   ]
  },
  {
   "cell_type": "code",
   "execution_count": 9,
   "metadata": {},
   "outputs": [
    {
     "name": "stdout",
     "output_type": "stream",
     "text": [
      "Cuenta de números impares: 4\n",
      "Cuenta de números pares: 2\n"
     ]
    }
   ],
   "source": [
    "# Un programa que lee una secuencia de números\n",
    "# y cuenta cuántos números son pares y cuántos son impares.\n",
    "# El programa termina cuando se ingresa un cero.\n",
    "\n",
    "odd_numbers = 0\n",
    "even_numbers = 0\n",
    "\n",
    "# Lee el primer número.\n",
    "number = int(input(\"Introduce un número o escribe 0 para detener: \"))\n",
    "\n",
    "# 0 termina la ejecución.\n",
    "while number != 0:\n",
    "    # Verificar si el número es impar.\n",
    "    if number % 2 == 1:\n",
    "        # Incrementar el contador de números impares odd_numbers.\n",
    "        odd_numbers += 1\n",
    "    else:\n",
    "        # Incrementar el contador de números pares even_numbers.\n",
    "        even_numbers += 1\n",
    "    # Leer el siguiente número.\n",
    "    number = int(input(\"Introduce un número o escribe 0 para detener: \"))\n",
    "\n",
    "# Imprimir resultados.\n",
    "print(\"Cuenta de números impares:\", odd_numbers)\n",
    "print(\"Cuenta de números pares:\", even_numbers)"
   ]
  },
  {
   "cell_type": "code",
   "execution_count": 2,
   "metadata": {},
   "outputs": [
    {
     "name": "stdout",
     "output_type": "stream",
     "text": [
      "Dentro del bucle. 5\n",
      "Dentro del bucle. 4\n",
      "Dentro del bucle. 3\n",
      "Dentro del bucle. 2\n",
      "Dentro del bucle. 1\n",
      "Fuera del bucle. 0\n"
     ]
    }
   ],
   "source": [
    "counter = 5\n",
    "while counter != 0:\n",
    "    print(\"Dentro del bucle.\", counter)\n",
    "    counter -= 1\n",
    "print(\"Fuera del bucle.\", counter)\n",
    "\n"
   ]
  },
  {
   "cell_type": "code",
   "execution_count": 3,
   "metadata": {},
   "outputs": [
    {
     "name": "stdout",
     "output_type": "stream",
     "text": [
      "Dentro del bucle. 5\n",
      "Dentro del bucle. 4\n",
      "Dentro del bucle. 3\n",
      "Dentro del bucle. 2\n",
      "Dentro del bucle. 1\n",
      "Fuera del bucle. 0\n"
     ]
    }
   ],
   "source": [
    "counter = 5\n",
    "while counter:\n",
    "    print(\"Dentro del bucle.\", counter)\n",
    "    counter -= 1\n",
    "print(\"Fuera del bucle.\", counter)\n",
    "\n"
   ]
  },
  {
   "cell_type": "code",
   "execution_count": 15,
   "metadata": {},
   "outputs": [
    {
     "name": "stdout",
     "output_type": "stream",
     "text": [
      "\n",
      "+==================================+\n",
      "| ¡Bienvenido a mi juego, muggle!  |\n",
      "| Introduce un número entero       |\n",
      "| y adivina qué número he          |\n",
      "| elegido para ti.                 |\n",
      "| Entonces,                        |\n",
      "| ¿Cuál es el número secreto?      |\n",
      "+==================================+\n",
      "\n",
      "Ok\n",
      "Fin del juego\n"
     ]
    }
   ],
   "source": [
    "secret_number = 777\n",
    "\n",
    "print(\n",
    "\"\"\"\n",
    "+==================================+\n",
    "| ¡Bienvenido a mi juego, muggle!  |\n",
    "| Introduce un número entero       |\n",
    "| y adivina qué número he          |\n",
    "| elegido para ti.                 |\n",
    "| Entonces,                        |\n",
    "| ¿Cuál es el número secreto?      |\n",
    "+==================================+\n",
    "\"\"\")\n",
    "number=int(input(\"Escribe el nimero secreto: \"))\n",
    "\n",
    "#while number !=secret_number:\n",
    " #   print('Vuelve a intentarlo')\n",
    "  #  number=int(input(\"Escribe el nimero secreto: \"))\n",
    "#print('Eso guey')\n",
    "\n",
    "while number !=0:\n",
    "    if number==secret_number:\n",
    "        print('Ok')\n",
    "        break\n",
    "    else :\n",
    "        print('Vuelve a intentarlo')\n",
    "        number=int(input(\"Escribe el nimero secreto: \"))\n",
    "print(\"Fin del juego\")\n"
   ]
  },
  {
   "cell_type": "code",
   "execution_count": 17,
   "metadata": {},
   "outputs": [
    {
     "name": "stdout",
     "output_type": "stream",
     "text": [
      "1\n",
      "2\n",
      "3\n",
      "4\n",
      "5\n",
      "6\n",
      "7\n",
      "8\n",
      "9\n",
      "10\n",
      "11\n",
      "12\n",
      "13\n",
      "14\n",
      "15\n",
      "16\n",
      "17\n",
      "18\n",
      "19\n",
      "20\n",
      "21\n",
      "22\n",
      "23\n",
      "24\n",
      "25\n",
      "26\n",
      "27\n",
      "28\n",
      "29\n",
      "30\n",
      "31\n",
      "32\n",
      "33\n",
      "34\n",
      "35\n",
      "36\n",
      "37\n",
      "38\n",
      "39\n",
      "40\n",
      "41\n",
      "42\n",
      "43\n",
      "44\n",
      "45\n",
      "46\n",
      "47\n",
      "48\n",
      "49\n",
      "50\n",
      "51\n",
      "52\n",
      "53\n",
      "54\n",
      "55\n",
      "56\n",
      "57\n",
      "58\n",
      "59\n",
      "60\n",
      "61\n",
      "62\n",
      "63\n",
      "64\n",
      "65\n",
      "66\n",
      "67\n",
      "68\n",
      "69\n",
      "70\n",
      "71\n",
      "72\n",
      "73\n",
      "74\n",
      "75\n",
      "76\n",
      "77\n",
      "78\n",
      "79\n",
      "80\n",
      "81\n",
      "82\n",
      "83\n",
      "84\n",
      "85\n",
      "86\n",
      "87\n",
      "88\n",
      "89\n",
      "90\n",
      "91\n",
      "92\n",
      "93\n",
      "94\n",
      "95\n",
      "96\n",
      "97\n",
      "98\n",
      "99\n",
      "100\n"
     ]
    }
   ],
   "source": [
    "i = 0\n",
    "while i < 100:\n",
    "    # do_something()\n",
    "    i += 1\n",
    "    print(i)"
   ]
  },
  {
   "cell_type": "code",
   "execution_count": 23,
   "metadata": {},
   "outputs": [
    {
     "name": "stdout",
     "output_type": "stream",
     "text": [
      "0\n",
      "1\n",
      "2\n",
      "3\n",
      "4\n",
      "5\n",
      "6\n",
      "7\n",
      "8\n",
      "9\n",
      "10\n",
      "11\n",
      "12\n",
      "13\n",
      "14\n",
      "15\n",
      "16\n",
      "17\n",
      "18\n",
      "19\n",
      "20\n",
      "21\n",
      "22\n",
      "23\n",
      "24\n",
      "25\n",
      "26\n",
      "27\n",
      "28\n",
      "29\n",
      "30\n",
      "31\n",
      "32\n",
      "33\n",
      "34\n",
      "35\n",
      "36\n",
      "37\n",
      "38\n",
      "39\n",
      "40\n",
      "41\n",
      "42\n",
      "43\n",
      "44\n",
      "45\n",
      "46\n",
      "47\n",
      "48\n",
      "49\n",
      "50\n",
      "51\n",
      "52\n",
      "53\n",
      "54\n",
      "55\n",
      "56\n",
      "57\n",
      "58\n",
      "59\n",
      "60\n",
      "61\n",
      "62\n",
      "63\n",
      "64\n",
      "65\n",
      "66\n",
      "67\n",
      "68\n",
      "69\n",
      "70\n",
      "71\n",
      "72\n",
      "73\n",
      "74\n",
      "75\n",
      "76\n",
      "77\n",
      "78\n",
      "79\n",
      "80\n",
      "81\n",
      "82\n",
      "83\n",
      "84\n",
      "85\n",
      "86\n",
      "87\n",
      "88\n",
      "89\n",
      "90\n",
      "91\n",
      "92\n",
      "93\n",
      "94\n",
      "95\n",
      "96\n",
      "97\n",
      "98\n",
      "99\n"
     ]
    }
   ],
   "source": [
    "for  i in range (100):\n",
    "    #i+=1\n",
    "    print(i)\n",
    "    pass"
   ]
  },
  {
   "cell_type": "code",
   "execution_count": 22,
   "metadata": {},
   "outputs": [
    {
     "name": "stdout",
     "output_type": "stream",
     "text": [
      "El valor de i es actualmente 0\n",
      "El valor de i es actualmente 1\n",
      "El valor de i es actualmente 2\n",
      "El valor de i es actualmente 3\n",
      "El valor de i es actualmente 4\n",
      "El valor de i es actualmente 5\n",
      "El valor de i es actualmente 6\n",
      "El valor de i es actualmente 7\n",
      "El valor de i es actualmente 8\n",
      "El valor de i es actualmente 9\n"
     ]
    }
   ],
   "source": [
    "for i in range(10):\n",
    "    print(\"El valor de i es actualmente\", i)\n",
    "\n"
   ]
  },
  {
   "cell_type": "code",
   "execution_count": 24,
   "metadata": {},
   "outputs": [
    {
     "name": "stdout",
     "output_type": "stream",
     "text": [
      "El valor de i es actualmente 2\n",
      "El valor de i es actualmente 3\n",
      "El valor de i es actualmente 4\n",
      "El valor de i es actualmente 5\n",
      "El valor de i es actualmente 6\n",
      "El valor de i es actualmente 7\n"
     ]
    }
   ],
   "source": [
    "for i in range(2, 8):\n",
    "    print(\"El valor de i es actualmente\", i)"
   ]
  },
  {
   "cell_type": "markdown",
   "metadata": {},
   "source": [
    "## Siguiente ejercicio: Usar for , import Time y sleep. \n",
    "El resultado fue el esperado pero queda:   *Pendiente por revisar la función de sleep* \n"
   ]
  },
  {
   "cell_type": "code",
   "execution_count": 25,
   "metadata": {},
   "outputs": [
    {
     "name": "stdout",
     "output_type": "stream",
     "text": [
      "1 Mississippi\n",
      "2 Mississippi\n",
      "3 Mississippi\n",
      "4 Mississippi\n",
      "5 Mississippi\n"
     ]
    }
   ],
   "source": [
    "import time\n",
    "\n",
    "    # Escribe un bucle for que cuente hasta cinco.\n",
    "    # Cuerpo del bucle: imprime el número de iteración del bucle y la palabra \"Mississippi\".\n",
    "    # Cuerpo del bucle - usar: time.sleep (1)\n",
    "\n",
    "# Escribe una función de impresión con el mensaje final.\n",
    "\n",
    "for time in range (1,6):\n",
    "    print(time, \"Mississippi\")\n",
    "    "
   ]
  },
  {
   "cell_type": "markdown",
   "metadata": {},
   "source": [
    "## Implementar break y continue"
   ]
  },
  {
   "cell_type": "code",
   "execution_count": 26,
   "metadata": {},
   "outputs": [
    {
     "name": "stdout",
     "output_type": "stream",
     "text": [
      "La instrucción break:\n",
      "Dentro del bucle. 1\n",
      "Dentro del bucle. 2\n",
      "Fuera del bucle.\n",
      "\n",
      "La instrucción continue:\n",
      "Dentro del bucle. 1\n",
      "Dentro del bucle. 2\n",
      "Dentro del bucle. 4\n",
      "Dentro del bucle. 5\n",
      "Fuera del bucle.\n"
     ]
    }
   ],
   "source": [
    "# break - ejemplo\n",
    "\n",
    "print(\"La instrucción break:\")\n",
    "for i in range(1, 6):\n",
    "    if i == 3:\n",
    "        break\n",
    "    print(\"Dentro del bucle.\", i)\n",
    "print(\"Fuera del bucle.\")\n",
    "\n",
    "\n",
    "# continue - ejemplo\n",
    "\n",
    "print(\"\\nLa instrucción continue:\")\n",
    "for i in range(1, 6):\n",
    "    if i == 3:\n",
    "        continue\n",
    "    print(\"Dentro del bucle.\", i)\n",
    "print(\"Fuera del bucle.\")\n"
   ]
  },
  {
   "cell_type": "code",
   "execution_count": 34,
   "metadata": {},
   "outputs": [
    {
     "name": "stdout",
     "output_type": "stream",
     "text": [
      "El número más grande es 75\n"
     ]
    }
   ],
   "source": [
    "largest_number = -99999999\n",
    "counter = 0\n",
    "\n",
    "while True:\n",
    "    number = int(input(\"Ingresa un número o escribe -1 para finalizar el programa: \"))\n",
    "    if number == -1:\n",
    "        break\n",
    "    counter += 1\n",
    "    if number > largest_number:\n",
    "        largest_number = number\n",
    "\n",
    "if counter != 0:\n",
    "    print(\"El número más grande es\", largest_number,)\n",
    "else:\n",
    "    print(\"No has ingresado ningún número.\" )\n",
    "\n"
   ]
  },
  {
   "cell_type": "code",
   "execution_count": 9,
   "metadata": {},
   "outputs": [],
   "source": [
    "#Escenario\n",
    "\n",
    "#La instrucción break se implementa para salir/terminar un bucle.\n",
    "#Diseña un programa que use un bucle while y le pida continuamente al usuario que ingrese una palabra a menos que ingrese \"chupacabra\" como la palabra de salida secreta, en cuyo caso el mensaje \"¡Has dejado el bucle con éxito\". Debe imprimirse en la pantalla y el bucle debe terminar.\n",
    "#No imprimas ninguna de las palabras ingresadas por el usuario. Utiliza el concepto de ejecución condicional y la sentencia break. \n",
    "\n",
    "while True:\n",
    "        palabra_secreta= input('Adivina el nombre del mounstro que estoy pensando: ')\n",
    "        if palabra_secreta== 'chupacabra':\n",
    "                print(\"Bien hecho has salido del bucle!\")\n",
    "                break\n"
   ]
  },
  {
   "cell_type": "code",
   "execution_count": 2,
   "metadata": {},
   "outputs": [
    {
     "name": "stdout",
     "output_type": "stream",
     "text": [
      "H\n",
      "L\n"
     ]
    }
   ],
   "source": [
    "# Indicar al usuario que ingrese una palabra\n",
    "# y asignarlo a la variable user_word.\n",
    "\n",
    "user_word=input(\"Escribe una palabra\")\n",
    "user_word=user_word.upper()\n",
    "\n",
    "for letter in user_word:\n",
    "    # Completa el cuerpo del bucle for.\n",
    "    if letter == \"A\" or letter == \"E\" or letter == \"I\" or letter == \"O\" or letter == \"U\"  :\n",
    "          continue\n",
    "    print(letter)"
   ]
  },
  {
   "cell_type": "code",
   "execution_count": 3,
   "metadata": {},
   "outputs": [
    {
     "name": "stdout",
     "output_type": "stream",
     "text": [
      "\n"
     ]
    }
   ],
   "source": [
    "import abc\n",
    "\n",
    "\n",
    "word_without_vowels = \"\"\n",
    "vocales= abc\n",
    "\n",
    "# Indicar al usuario que ingrese una palabra\n",
    "# y asignarla a la variable user_word.\n",
    "\n",
    "user_word_1=(input(\"Escribe una palara: \")).upper()\n",
    "for letter in user_word_1:\n",
    "   # Completa el cuerpo del bucle.\n",
    "    if letter == vocales:\n",
    "      word_without_vowels+=letter\n",
    "      continue\n",
    "\n",
    "# Imprimir la palabra asignada a word_without_vowels.\n",
    "print(word_without_vowels)"
   ]
  },
  {
   "cell_type": "markdown",
   "metadata": {},
   "source": [
    "Tiempo Estimado\n",
    "\n",
    "20-30 minutos\n",
    "Nivel de Dificultad\n",
    "\n",
    "Medio\n",
    "Objetivos\n",
    "\n",
    "Familiarizar al estudiante con:\n",
    "\n",
    "    Utilizar el bucle while.\n",
    "    Encontrar la implementación adecuada de reglas definidas verbalmente.\n",
    "    Reflejar situaciones de la vida real en código de computadora.\n",
    "\n",
    "Escenario\n",
    "\n",
    "Escucha esta historia: Un niño y su padre, un programador de computadoras, juegan con bloques de madera. Están construyendo una pirámide.\n",
    "\n",
    "Su pirámide es un poco rara, ya que en realidad es una pared en forma de pirámide, es plana. La pirámide se apila de acuerdo con un principio simple: cada capa inferior contiene un bloque más que la capa superior.\n",
    "\n",
    "La figura ilustra la regla utilizada por los constructores:\n",
    "\n",
    "\n",
    "Tu tarea es escribir un programa que lea la cantidad de bloques que tienen los constructores, y generar la altura de la pirámide que se puede construir utilizando estos bloques.\n",
    "\n",
    "Nota: La altura se mide por el número de capas completas: si los constructores no tienen la cantidad suficiente de bloques y no pueden completar la siguiente capa, terminan su trabajo inmediatamente.\n",
    "\n",
    "Prueba tu código con los datos que hemos proporcionado.\n",
    "\n",
    "Datos de Prueba\n",
    "\n",
    "Entrada de muestra: 6\n",
    "\n",
    "Salida esperada: La altura de la pirámide es: 3\n",
    "\n",
    "Entrada de muestra: 20\n",
    "\n",
    "Salida esperada: La altura de la pirámide es: 5\n",
    "\n",
    "Entrada de muestra: 1000\n",
    "\n",
    "Salida esperada: La altura de la pirámide es: 44\n",
    "\n",
    "Entrada de muestra: 2\n",
    "\n",
    "Salida esperada: La altura de la pirámide es: 1\n",
    "\n"
   ]
  },
  {
   "cell_type": "code",
   "execution_count": null,
   "metadata": {},
   "outputs": [],
   "source": [
    "blocks = int(input(\"Ingresa el número de bloques: \"))\n",
    "\n",
    "#\n",
    "# Escribe tu código aquí.\n",
    "#\t\n",
    "\n",
    "while True:\n",
    "    for blocks in \n",
    "\n",
    "print(\"La altura de la pirámide:\", height)\n"
   ]
  },
  {
   "cell_type": "markdown",
   "metadata": {},
   "source": [
    "## Conjetura de Collatz\n",
    "\n",
    "#### Dado un número entero positivo x cualquiera, se aplica la siguiente operación (que se suele denominar función C\"En este caso number_positive\"): si x es par se divide entre 2; si x es impar se multiplica por 3 y se suma 1. "
   ]
  },
  {
   "cell_type": "code",
   "execution_count": 1,
   "metadata": {},
   "outputs": [
    {
     "name": "stdout",
     "output_type": "stream",
     "text": [
      "----------------------------------- \n",
      "Numero con que se empieza:  25\n",
      "76\n",
      "38\n",
      "19\n",
      "58\n",
      "29\n",
      "88\n",
      "44\n",
      "22\n",
      "11\n",
      "34\n",
      "17\n",
      "52\n",
      "26\n",
      "13\n",
      "40\n",
      "20\n",
      "10\n",
      "5\n",
      "16\n",
      "8\n",
      "4\n",
      "2\n",
      "1\n",
      "Numero total de iteraciones:  23 conteos\n"
     ]
    }
   ],
   "source": [
    "counter=0\n",
    "number_positive=int(input(\"Escribe un numero positivo mayor a 1: \"))\n",
    "\n",
    "while number_positive <= 1:\n",
    "    print(\"Vuelve a escoger un numero positivo mayor que 1: \")\n",
    "    number_positive=int(input(\"Escribe un numero positivo mayor a 1: \"))\n",
    "\n",
    "if number_positive >=2: print(\"-\"*35,\"\\nNumero con que se empieza: \", number_positive)\n",
    "\n",
    "while  number_positive !=1 and number_positive >=1:\n",
    "    if  number_positive%2==0:\n",
    "        number_positive=number_positive//2\n",
    "        print(number_positive)\n",
    "        counter+=1\n",
    "    elif number_positive%2==1:\n",
    "        number_positive=(number_positive*3)+1\n",
    "        print(number_positive)\n",
    "        counter+=1\n",
    "print(\"Numero total de iteraciones: \", counter, \"conteos\")\n"
   ]
  },
  {
   "cell_type": "code",
   "execution_count": 3,
   "metadata": {},
   "outputs": [
    {
     "name": "stdout",
     "output_type": "stream",
     "text": [
      "P*y*t*h*o*n*"
     ]
    }
   ],
   "source": [
    "word = \"Python\"\n",
    "for letter in word:\n",
    "    print(letter, end=\"*\")\n"
   ]
  },
  {
   "cell_type": "code",
   "execution_count": 4,
   "metadata": {},
   "outputs": [
    {
     "name": "stdout",
     "output_type": "stream",
     "text": [
      "2\n",
      "4\n",
      "6\n",
      "8\n"
     ]
    }
   ],
   "source": [
    "for i in range(1, 10):\n",
    "    if i % 2 == 0:\n",
    "        print(i)\n"
   ]
  },
  {
   "cell_type": "code",
   "execution_count": 6,
   "metadata": {},
   "outputs": [
    {
     "name": "stdout",
     "output_type": "stream",
     "text": [
      "O_p_e_n_E_D_G_ _"
     ]
    }
   ],
   "source": [
    "text = \"OpenEDG Python Institute\"\n",
    "for letter in text:\n",
    "    if letter == \"P\":\n",
    "        break\n",
    "    print(letter, end=\"_\")"
   ]
  },
  {
   "cell_type": "code",
   "execution_count": 11,
   "metadata": {},
   "outputs": [
    {
     "name": "stdout",
     "output_type": "stream",
     "text": [
      "pypypy"
     ]
    }
   ],
   "source": [
    "text = \"pyxpyxpyx\"\n",
    "for letter in text:\n",
    "    if letter == \"x\":\n",
    "        continue\n",
    "    print(letter, end=\"\")\n"
   ]
  },
  {
   "cell_type": "markdown",
   "metadata": {},
   "source": [
    "### Mini Ejercicios for y while"
   ]
  },
  {
   "cell_type": "code",
   "execution_count": 14,
   "metadata": {},
   "outputs": [
    {
     "name": "stdout",
     "output_type": "stream",
     "text": [
      "6 4 2 "
     ]
    }
   ],
   "source": [
    "for i in range(6, 1, -2):\n",
    "    print(i, end=\" \")  # Salidas: 6, 4, 2\n"
   ]
  },
  {
   "cell_type": "code",
   "execution_count": 16,
   "metadata": {},
   "outputs": [
    {
     "name": "stdout",
     "output_type": "stream",
     "text": [
      "11\n",
      "12\n"
     ]
    }
   ],
   "source": [
    "for i in range(10,12):\n",
    "    i+=1\n",
    "    print(i)"
   ]
  },
  {
   "cell_type": "code",
   "execution_count": 3,
   "metadata": {},
   "outputs": [
    {
     "name": "stdout",
     "output_type": "stream",
     "text": [
      "2\n",
      "4\n",
      "6\n",
      "8\n",
      "10\n"
     ]
    }
   ],
   "source": [
    "for i in range(1, 11):\n",
    "    # Línea de código.\n",
    "        # Línea de código.\n",
    "        if i%2==0:\n",
    "            print(i)"
   ]
  }
 ],
 "metadata": {
  "kernelspec": {
   "display_name": "Python 3.10.6 64-bit (microsoft store)",
   "language": "python",
   "name": "python3"
  },
  "language_info": {
   "codemirror_mode": {
    "name": "ipython",
    "version": 3
   },
   "file_extension": ".py",
   "mimetype": "text/x-python",
   "name": "python",
   "nbconvert_exporter": "python",
   "pygments_lexer": "ipython3",
   "version": "3.10.6"
  },
  "orig_nbformat": 4,
  "vscode": {
   "interpreter": {
    "hash": "66eba28a75a64fbe1a9b9c30d27f7c856726c51cbbef86297708eae4ce175db0"
   }
  }
 },
 "nbformat": 4,
 "nbformat_minor": 2
}
