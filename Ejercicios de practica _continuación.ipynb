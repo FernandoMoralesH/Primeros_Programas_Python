{
 "cells": [
  {
   "attachments": {},
   "cell_type": "markdown",
   "metadata": {},
   "source": [
    "Ejercicio 7\n",
    "\n",
    "Escribir un programa que muestre por pantalla la tabla de multiplicar del 1 al 10."
   ]
  },
  {
   "cell_type": "code",
   "execution_count": 4,
   "metadata": {},
   "outputs": [
    {
     "name": "stdout",
     "output_type": "stream",
     "text": [
      "1  X 0 es =  0\n",
      "1  X 1 es =  1\n",
      "1  X 2 es =  2\n",
      "1  X 3 es =  3\n",
      "1  X 4 es =  4\n",
      "1  X 5 es =  5\n",
      "1  X 6 es =  6\n",
      "1  X 7 es =  7\n",
      "1  X 8 es =  8\n",
      "1  X 9 es =  9\n",
      "1  X 10 es =  10\n"
     ]
    }
   ],
   "source": [
    "for table10 in range(11):\n",
    "    print(f'1  X {table10 } es =  {1 *  table10}')"
   ]
  },
  {
   "attachments": {},
   "cell_type": "markdown",
   "metadata": {},
   "source": [
    "Ejercicio 8\n",
    "\n",
    "Escribir un programa que pida al usuario un número entero y muestre por pantalla un triángulo rectángulo como el de más abajo."
   ]
  },
  {
   "attachments": {},
   "cell_type": "markdown",
   "metadata": {},
   "source": [
    "<code class=\"language-sh hljs bash\">\n",
    "1<br>\n",
    "3 1 <br>\n",
    "5 3 1<br>\n",
    "7 5 3 1<br>\n",
    "9 7 5 3 1<br>\n",
    "</code>"
   ]
  },
  {
   "cell_type": "code",
   "execution_count": 3,
   "metadata": {},
   "outputs": [
    {
     "name": "stdout",
     "output_type": "stream",
     "text": [
      "[1]\n",
      "[3, 1]\n",
      "[5, 3, 1]\n",
      "[7, 5, 3, 1]\n",
      "[9, 7, 5, 3, 1]\n",
      "[11, 9, 7, 5, 3, 1]\n"
     ]
    }
   ],
   "source": [
    "num =int(input('Tu numero es: '))\n",
    "sec = []\n",
    "for  x in range (num):\n",
    "    if x %2==0:\n",
    "        pass\n",
    "    else:\n",
    "        sec.append(x)\n",
    "        print(sec[::-1])"
   ]
  },
  {
   "attachments": {},
   "cell_type": "markdown",
   "metadata": {},
   "source": [
    "Ejercicio 9\n",
    "\n",
    "Escribir un programa que almacene la cadena de caracteres contraseña en una variable, pregunte al usuario por la contraseña hasta que introduzca la contraseña correcta."
   ]
  },
  {
   "cell_type": "code",
   "execution_count": 36,
   "metadata": {},
   "outputs": [],
   "source": [
    "contraseña = 'Contraseña'\n",
    "contra =input('Escribe la contra: ')\n",
    "\n",
    "while contra  != contraseña:\n",
    "    print('Vuelve a intentarlo')\n",
    "    contra =input('Escribe la contra: ')\n"
   ]
  },
  {
   "attachments": {},
   "cell_type": "markdown",
   "metadata": {},
   "source": [
    "Ejercicio 10\n",
    "\n",
    "Escribir un programa que pida al usuario un número entero y muestre por pantalla si es un número primo o no."
   ]
  },
  {
   "cell_type": "code",
   "execution_count": 8,
   "metadata": {},
   "outputs": [
    {
     "name": "stdout",
     "output_type": "stream",
     "text": [
      "Tu 4 es un Numero primo\n"
     ]
    }
   ],
   "source": [
    "num_primo=int(input('Escribe un numero entero: '))\n",
    "\n",
    "if num_primo > 1:\n",
    "    if num_primo % num_primo == 0 or num_primo % 1 == 0:\n",
    "        print(f'Tu {num_primo} es un Numero primo')\n",
    "    else:\n",
    "        print('No es Numero Primo')"
   ]
  },
  {
   "cell_type": "code",
   "execution_count": 10,
   "metadata": {},
   "outputs": [
    {
     "name": "stdout",
     "output_type": "stream",
     "text": [
      "4 no es primo\n"
     ]
    }
   ],
   "source": [
    "n = int(input(\"Introduce un número entero positivo mayor que 2: \"))\n",
    "for i in range(2, n):\n",
    "    if n % i == 0:\n",
    "        break\n",
    "if (i + 1)  == n:\n",
    "    print(str(n) + \" es primo\")\n",
    "else: \n",
    "    print(str(n) + \" no es primo\")"
   ]
  },
  {
   "cell_type": "code",
   "execution_count": 11,
   "metadata": {},
   "outputs": [
    {
     "name": "stdout",
     "output_type": "stream",
     "text": [
      "25 no es un número primo\n"
     ]
    }
   ],
   "source": [
    "def es_primo(n):\n",
    "    if n <= 1:\n",
    "        return False\n",
    "    for i in range(2, n):\n",
    "        if n % i == 0:\n",
    "            return False\n",
    "    return True\n",
    "\n",
    "num = int(input(\"Ingrese un número: \"))\n",
    "if es_primo(num):\n",
    "    print(f\"{num} es un número primo\")\n",
    "else:\n",
    "    print(f\"{num} no es un número primo\")"
   ]
  },
  {
   "attachments": {},
   "cell_type": "markdown",
   "metadata": {},
   "source": [
    "Ejercicio 11\n",
    "\n",
    "Escribir un programa que pida al usuario una palabra y luego muestre por pantalla una a una las letras de la palabra introducida empezando por la última."
   ]
  },
  {
   "cell_type": "code",
   "execution_count": 28,
   "metadata": {},
   "outputs": [
    {
     "name": "stdout",
     "output_type": "stream",
     "text": [
      "a\n",
      "t\n",
      "i\n",
      "n\n",
      "a\n",
      "u\n",
      "J\n"
     ]
    }
   ],
   "source": [
    "palabra_nueva = input(\"Escribe una palabra: \")\n",
    "palabra_nueva_dos =palabra_nueva[::-1]\n",
    "\n",
    "for letra in palabra_nueva_dos:\n",
    "    print(letra)"
   ]
  },
  {
   "cell_type": "code",
   "execution_count": 3,
   "metadata": {},
   "outputs": [
    {
     "name": "stdout",
     "output_type": "stream",
     "text": [
      "d\n",
      "s\n",
      "a\n"
     ]
    }
   ],
   "source": [
    "# Otra Solución\n",
    "\n",
    "word = input(\"Introduce una palabra: \")\n",
    "for i in range(len(word)-1, -1, -1):\n",
    "    print(word[i])"
   ]
  },
  {
   "attachments": {},
   "cell_type": "markdown",
   "metadata": {},
   "source": [
    "Ejercicio 12\n",
    "\n",
    "Escribir un programa en el que se pregunte al usuario por una frase y una letra, y muestre por pantalla el número de veces que aparece la letra en la frase."
   ]
  },
  {
   "cell_type": "code",
   "execution_count": 12,
   "metadata": {},
   "outputs": [
    {
     "name": "stdout",
     "output_type": "stream",
     "text": [
      "La letra \"a\"  aparece en la frase \"Paraguas\",  3 veces\n"
     ]
    }
   ],
   "source": [
    "frase=input(\"Coloca una frase: \")\n",
    "letraInFrase=input(\"Coloca una letra: \")\n",
    "contador = 0\n",
    "\n",
    "for l in frase:\n",
    "        if l == letraInFrase:\n",
    "                contador +=1\n",
    "print((f'La letra \"{letraInFrase}\"  aparece en la frase \"{frase}\",  { contador} veces'))"
   ]
  },
  {
   "attachments": {},
   "cell_type": "markdown",
   "metadata": {},
   "source": [
    "Ejercicio 13\n",
    "\n",
    "Escribir un programa que muestre el eco de todo lo que el usuario introduzca hasta que el usuario escriba “salir” que terminará."
   ]
  },
  {
   "cell_type": "code",
   "execution_count": 7,
   "metadata": {},
   "outputs": [
    {
     "name": "stdout",
     "output_type": "stream",
     "text": [
      "Prueba de nuevo\n",
      "Prueba de nuevo\n",
      "Prueba de nuevo\n"
     ]
    }
   ],
   "source": [
    "Palabra_magica  = input()\n",
    "\n",
    "while Palabra_magica != \"salir\":\n",
    "    print(\"Prueba de nuevo\")\n",
    "    Palabra_magica =input()\n"
   ]
  },
  {
   "cell_type": "code",
   "execution_count": 2,
   "metadata": {},
   "outputs": [
    {
     "name": "stdout",
     "output_type": "stream",
     "text": [
      "  ***\n",
      "    *\n",
      "  ***\n",
      "    *\n",
      "  ***\n"
     ]
    }
   ],
   "source": [
    "import random\n",
    "\n",
    "# Función para imprimir un número\n",
    "def print_number(num):\n",
    "    if num == 3:\n",
    "        print(\"  ***\")\n",
    "        print(\"    *\")\n",
    "        print(\"  ***\")\n",
    "        print(\"    *\")\n",
    "        print(\"  ***\")\n",
    "    else:\n",
    "        print(\"Número no reconocido\")\n",
    "\n",
    "# Generar un número aleatorio del 1 al 3\n",
    "num = random.randint(1, 3)\n",
    "\n",
    "# Imprimir el número generado\n",
    "print_number(num)\n"
   ]
  },
  {
   "cell_type": "code",
   "execution_count": 6,
   "metadata": {},
   "outputs": [
    {
     "name": "stdout",
     "output_type": "stream",
     "text": [
      "=La lotería local del pueblo del espinal, oaxaca==\n",
      "Premios de Loteria\n",
      "+---------------------------------+----------------------+-----------------+\n",
      "|Números de digitos acertados     |Monto del Premio en % |Premio en $      |\n",
      "+---------------------------------+----------------------+-----------------+\n",
      "|                                6|               100.000|         30000.00|\n",
      "|                                5|                 0.050|          1500.00|\n",
      "|                                4|                 0.025|           750.00|\n",
      "|                                3|                 0.010|           300.00|\n",
      "|                                2|                 0.009|           267.00|\n",
      "|                                1|                 0.000|            10.00|\n",
      "+---------------------------------+----------------------+-----------------+\n"
     ]
    }
   ],
   "source": [
    "import random\n",
    "\n",
    "mensaje_juego = \"La lotería local del pueblo del Espinal, Oaxaca\".capitalize() \n",
    "print (mensaje_juego.center(50, \"=\")) \n",
    "\n",
    "print(\"Premios de Loteria\")\n",
    "\n",
    "lugares = [{\"lugar 1\":1,\"Numeros de digitos acertados\":6,\"Monto del Premio\":100,\"Premio base\":30000},\n",
    " {\"Numeros de digitos acertados\":5,\"Monto del Premio\":0.050,\"Premio base\":1500},\n",
    "{\"Numeros de digitos acertados\":4,\"Monto del Premio\":0.025,\"Premio base\":750},\n",
    "{\"Numeros de digitos acertados\":3,\"Monto del Premio\":0.010,\"Premio base\":300},\n",
    "{\"Numeros de digitos acertados\":2,\"Monto del Premio\":0.0089,\"Premio base\":267},\n",
    "{\"Numeros de digitos acertados\":1,\"Monto del Premio\":0.00033,\"Premio base\":10}]\n",
    "\n",
    "print(\"+---------------------------------+----------------------+-----------------+\")\n",
    "print(\"|Números de digitos acertados     |Monto del Premio en % |Premio en $      |\")\n",
    "print(\"+---------------------------------+----------------------+-----------------+\")\n",
    "for dato in lugares:\n",
    "    numeros = dato[\"Numeros de digitos acertados\"]\n",
    "    monto =dato[\"Monto del Premio\"]\n",
    "    premio = dato[\"Premio base\"]\n",
    "    \n",
    "    cadena = \"|{:>33}|{:>22.3f}|{:>17.2f}|\".format(numeros,monto,premio)\n",
    "    print(cadena)\n",
    "print(\"+---------------------------------+----------------------+-----------------+\")\n"
   ]
  },
  {
   "cell_type": "code",
   "execution_count": 5,
   "metadata": {},
   "outputs": [
    {
     "name": "stdout",
     "output_type": "stream",
     "text": [
      "|Luis                |\n"
     ]
    }
   ],
   "source": [
    "nombre = \"Luis\"\n",
    "print(\"|{:<20}|\".format(nombre) )"
   ]
  },
  {
   "cell_type": "code",
   "execution_count": 3,
   "metadata": {},
   "outputs": [
    {
     "name": "stdout",
     "output_type": "stream",
     "text": [
      "+--------------------+----------+\n",
      "|Nombre              |Promedio  |\n",
      "+--------------------+----------+\n",
      "|Luis C.B.           |      9.50|\n",
      "+--------------------+----------+\n",
      "|John G.             |      8.96|\n",
      "+--------------------+----------+\n",
      "|Leon Scott          |      9.22|\n",
      "+--------------------+----------+\n"
     ]
    }
   ],
   "source": [
    "datos = [\n",
    "    {\n",
    "        \"nombre\": \"Luis C.B.\",\n",
    "        \"promedio\": 9.5,\n",
    "    },\n",
    "    {\n",
    "        \"nombre\": \"John G.\",\n",
    "        \"promedio\": 8.96,\n",
    "    },\n",
    "    {\n",
    "        \"nombre\": \"Leon Scott\",\n",
    "        \"promedio\": 9.22,\n",
    "    },\n",
    "]\n",
    "print(\"+--------------------+----------+\")\n",
    "print(\"|Nombre              |Promedio  |\")\n",
    "print(\"+--------------------+----------+\")\n",
    "for dato in datos:\n",
    "    nombre = dato[\"nombre\"]\n",
    "    promedio = dato[\"promedio\"]\n",
    "    cadena = \"|{:<20}|{:>10.2f}|\".format(nombre, promedio)\n",
    "    print(cadena)\n",
    "    print(\"+--------------------+----------+\")"
   ]
  }
 ],
 "metadata": {
  "kernelspec": {
   "display_name": "Python 3",
   "language": "python",
   "name": "python3"
  },
  "language_info": {
   "codemirror_mode": {
    "name": "ipython",
    "version": 3
   },
   "file_extension": ".py",
   "mimetype": "text/x-python",
   "name": "python",
   "nbconvert_exporter": "python",
   "pygments_lexer": "ipython3",
   "version": "3.10.11"
  },
  "orig_nbformat": 4,
  "vscode": {
   "interpreter": {
    "hash": "66eba28a75a64fbe1a9b9c30d27f7c856726c51cbbef86297708eae4ce175db0"
   }
  }
 },
 "nbformat": 4,
 "nbformat_minor": 2
}
