{
 "cells": [
  {
   "attachments": {},
   "cell_type": "markdown",
   "metadata": {},
   "source": [
    "Ejercicio 1\n",
    "\n",
    "Escribir un programa que almacene las asignaturas de un curso (por ejemplo Matemáticas, Física, Química, Historia y Lengua) en una lista y la muestre por pantalla."
   ]
  },
  {
   "cell_type": "code",
   "execution_count": 3,
   "metadata": {},
   "outputs": [
    {
     "name": "stdout",
     "output_type": "stream",
     "text": [
      "\"Hola!! Escribe las materias \"Matemáticas, Física, Química, Historia y Lengua\" en la siguiente captura. Coloca un  \"0\" para terminar\n",
      "Tu lista es: ['Matematicas', 'Fisica', 'Quimica', 'Historia', 'Lengua']\n"
     ]
    }
   ],
   "source": [
    "print('\"Hola!! Escribe las materias \"Matemáticas, Física, Química, Historia y Lengua\" en la siguiente captura. Coloca un  \"0\" para terminar')\n",
    "asignaturas = []\n",
    "\n",
    "while True:\n",
    "    asignatura = input()\n",
    "    if asignatura == \"0\":\n",
    "        break\n",
    "    asignaturas.append(asignatura)\n",
    "\n",
    "print(f'Tu lista es: {asignaturas}')\n"
   ]
  },
  {
   "cell_type": "code",
   "execution_count": 4,
   "metadata": {},
   "outputs": [
    {
     "name": "stdout",
     "output_type": "stream",
     "text": [
      "['Matematicas', 'Fisica', 'Quimica', 'Historia', 'Lengua']\n"
     ]
    }
   ],
   "source": [
    "print(asignaturas)"
   ]
  },
  {
   "attachments": {},
   "cell_type": "markdown",
   "metadata": {},
   "source": [
    "Ejercicio 2\n",
    "\n",
    "Escribir un programa que almacene las asignaturas de un curso (por ejemplo Matemáticas, Física, Química, Historia y Lengua) en una lista y la muestre por pantalla el mensaje Yo estudio <asignatura>, donde <asignatura> es cada una de las asignaturas de la lista."
   ]
  },
  {
   "cell_type": "code",
   "execution_count": 5,
   "metadata": {},
   "outputs": [
    {
     "name": "stdout",
     "output_type": "stream",
     "text": [
      "Yo estudio \"Matematicas\"\n",
      "Yo estudio \"Fisica\"\n",
      "Yo estudio \"Quimica\"\n",
      "Yo estudio \"Historia\"\n",
      "Yo estudio \"Lengua\"\n"
     ]
    }
   ],
   "source": [
    "\n",
    "for materia in asignaturas:\n",
    "    print(f'Yo estudio \"{materia}\"')"
   ]
  },
  {
   "attachments": {},
   "cell_type": "markdown",
   "metadata": {},
   "source": [
    "Ejercicio 4\n",
    "\n",
    "Escribir un programa que pregunte al usuario los números ganadores de la lotería primitiva, los almacene en una lista y los muestre por pantalla ordenados de menor a mayor."
   ]
  },
  {
   "cell_type": "code",
   "execution_count": 6,
   "metadata": {},
   "outputs": [
    {
     "name": "stdout",
     "output_type": "stream",
     "text": [
      "['10', '25', '36', '52', '75', '84', '86', '96']\n"
     ]
    }
   ],
   "source": [
    "ganadores = []\n",
    "\n",
    "while True:\n",
    "    ganador =input()\n",
    "    if ganador == \"0\":\n",
    "            break\n",
    "    ganadores.append(ganador)\n",
    "\n",
    "ganadores_ordenados =sorted(ganadores)\n",
    "print(ganadores_ordenados)"
   ]
  },
  {
   "attachments": {},
   "cell_type": "markdown",
   "metadata": {},
   "source": [
    "Ejercicio 3\n",
    "\n",
    "Escribir un programa que almacene las asignaturas de un curso (por ejemplo Matemáticas, Física, Química, Historia y Lengua) en una lista, pregunte al usuario la nota que ha sacado en cada asignatura, y después las muestre por pantalla con el mensaje En <asignatura> has sacado <nota> donde <asignatura> es cada una des las asignaturas de la lista y <nota> cada una de las correspondientes notas introducidas por el usuario."
   ]
  },
  {
   "cell_type": "code",
   "execution_count": 32,
   "metadata": {},
   "outputs": [
    {
     "name": "stdout",
     "output_type": "stream",
     "text": [
      "<class 'list'>\n",
      "Tu calificación en Matematicas es de 10\n",
      "Tu calificación en Quimica es de 9\n",
      "Tu calificación en Lengua es de 8\n",
      "Tu calificación en Historia es de 7\n",
      "Tu calificación en Fisica es de 6\n"
     ]
    }
   ],
   "source": [
    "print(type(asignaturas))\n",
    "asignaturas = [\"Matematicas\", \"Quimica\", \"Lengua\", \"Historia\", \"Fisica\"]\n",
    "\n",
    "matematicas=input(f'Cuanta puntuación has sacado en {asignaturas[0]}')\n",
    "asignaturas.insert(1,matematicas)\n",
    "quimica=input(f'Cuanta puntuación has sacado en {asignaturas[2]}')\n",
    "asignaturas.insert(3,quimica)\n",
    "lengua=input(f'Cuanta puntuación has sacado en {asignaturas[4]}')\n",
    "asignaturas.insert(5,lengua)\n",
    "historia=input(f'Cuanta puntuación has sacado en {asignaturas[6]}')\n",
    "asignaturas.insert(7,historia)\n",
    "fisica=input(f'Cuanta puntuación has sacado en {asignaturas[8]}')\n",
    "asignaturas.insert(9,fisica)\n",
    "\n",
    "print(f'Tu calificación en {asignaturas[0]} es de {asignaturas[1]}')\n",
    "print(f'Tu calificación en {asignaturas[2]} es de {asignaturas[3]}')\n",
    "print(f'Tu calificación en {asignaturas[4]} es de {asignaturas[5]}')\n",
    "print(f'Tu calificación en {asignaturas[6]} es de {asignaturas[7]}')\n",
    "print(f'Tu calificación en {asignaturas[8]} es de {asignaturas[9]}')\n"
   ]
  },
  {
   "cell_type": "code",
   "execution_count": null,
   "metadata": {},
   "outputs": [],
   "source": [
    "# Mejor codigo\n",
    "\n",
    "subjects = [\"Matemáticas\", \"Física\", \"Química\", \"Historia\", \"Lengua\"]\n",
    "scores = []\n",
    "for subject in subjects:\n",
    "    score = input(\"¿Qué nota has sacado en \" + subject + \"?\")\n",
    "    scores.append(score)\n",
    "for i in range(len(subjects)):\n",
    "    print(\"En \" + subjects[i] + \" has sacado \" + scores[i])"
   ]
  },
  {
   "attachments": {},
   "cell_type": "markdown",
   "metadata": {},
   "source": [
    "Ejercicio 5\n",
    "\n",
    "Escribir un programa que almacene en una lista los números del 1 al 10 y los muestre por pantalla en orden inverso separados por comas."
   ]
  },
  {
   "cell_type": "code",
   "execution_count": 46,
   "metadata": {},
   "outputs": [
    {
     "name": "stdout",
     "output_type": "stream",
     "text": [
      "[1, 2, 3, 4, 5, 6, 7, 8, 9, 10]\n",
      "[10, 9, 8, 7, 6, 5, 4, 3, 2, 1]\n"
     ]
    }
   ],
   "source": [
    "numeracion=[]\n",
    "\n",
    "for i in range(1,11):\n",
    "    numeracion.append(i)\n",
    "print(numeracion)\n",
    "\n",
    "numeraciones = sorted(numeracion,reverse=True)\n",
    "print(numeraciones)"
   ]
  },
  {
   "cell_type": "markdown",
   "metadata": {},
   "source": [
    "Ejercicio 6\n",
    "\n",
    "Escribir un programa que almacene las asignaturas de un curso (por ejemplo Matemáticas, Física, Química, Historia y Lengua) en una lista, pregunte al usuario la nota que ha sacado en cada asignatura y elimine de la lista las asignaturas aprobadas. Al final el programa debe mostrar por pantalla las asignaturas que el usuario tiene que repetir."
   ]
  },
  {
   "cell_type": "code",
   "execution_count": 55,
   "metadata": {},
   "outputs": [
    {
     "name": "stdout",
     "output_type": "stream",
     "text": [
      "En Matemáticas has sacado  10\n",
      "En Física has sacado  6\n",
      "Tienes que repetir Química\n",
      "Tienes que repetir Historia\n",
      "Tienes que repetir Lengua\n"
     ]
    }
   ],
   "source": [
    "Asignaturas = [\"Matemáticas\", \"Física\", \"Química\", \"Historia\", \"Lengua\"]\n",
    "scores = []\n",
    "for asignatura in Asignaturas:\n",
    "    score = int(input(\"¿Qué nota has sacado en \" + asignatura + \"?\"))\n",
    "    scores.append(score)\n",
    "\n",
    "\n",
    "for i in range(len(Asignaturas)):\n",
    "    if scores[i] >=6:\n",
    "        print(\"En \" + Asignaturas[i] + \" has sacado \", scores[i])\n",
    "    else:\n",
    "        print(f\"Tienes que repetir {Asignaturas[i]}\")"
   ]
  },
  {
   "attachments": {},
   "cell_type": "markdown",
   "metadata": {},
   "source": [
    "Ejercicio 7\n",
    "\n",
    "Escribir un programa que almacene el abecedario en una lista, elimine de la lista las letras que ocupen posiciones múltiplos de 3, y muestre por pantalla la lista resultante."
   ]
  },
  {
   "cell_type": "code",
   "execution_count": 90,
   "metadata": {},
   "outputs": [
    {
     "name": "stdout",
     "output_type": "stream",
     "text": [
      "abcdefghijklmnopqrstuvwxyz\n",
      "b c e f h i k l n o q r t u w x z "
     ]
    }
   ],
   "source": [
    "import string\n",
    "\n",
    "letras = string.ascii_lowercase\n",
    "print(letras)  # Imprime \"abcdefghijklmnopqrstuvwxyz\"\n",
    "nuevo_abc = list(letras)\n",
    "\n",
    "for letra in range(len(nuevo_abc)):\n",
    "    if letra % 3 !=0:\n",
    "\n",
    "        print(nuevo_abc[letra], end= \" \") "
   ]
  },
  {
   "cell_type": "code",
   "execution_count": 88,
   "metadata": {},
   "outputs": [
    {
     "name": "stdout",
     "output_type": "stream",
     "text": [
      "El índice 0 es múltiplo de 3\n",
      "El índice 1 no es múltiplo de 3\n",
      "El índice 2 no es múltiplo de 3\n",
      "El índice 3 es múltiplo de 3\n",
      "El índice 4 no es múltiplo de 3\n",
      "El índice 5 no es múltiplo de 3\n",
      "El índice 6 es múltiplo de 3\n",
      "El índice 7 no es múltiplo de 3\n",
      "El índice 8 no es múltiplo de 3\n",
      "El índice 9 es múltiplo de 3\n"
     ]
    }
   ],
   "source": [
    "mi_lista = [\"a\", \"b\", \"c\", \"d\", \"e\", \"f\", \"g\", \"h\", \"i\", \"j\"]\n",
    "\n",
    "for i in range(len(mi_lista)):\n",
    "    if i % 3 == 0:\n",
    "        print(\"El índice\", i, \"es múltiplo de 3\")\n",
    "    else:\n",
    "        print(\"El índice\", i, \"no es múltiplo de 3\")\n"
   ]
  },
  {
   "attachments": {},
   "cell_type": "markdown",
   "metadata": {},
   "source": [
    "Ejercicio 8\n",
    "\n",
    "Escribir un programa que pida al usuario una palabra y muestre por pantalla si es un palíndromo."
   ]
  },
  {
   "cell_type": "code",
   "execution_count": 32,
   "metadata": {},
   "outputs": [
    {
     "name": "stdout",
     "output_type": "stream",
     "text": [
      "No son iguales\n",
      "pero orep\n"
     ]
    }
   ],
   "source": [
    "frase_palindormo = input(\"Escribe tu frase: \").lower()\n",
    "\n",
    "nueva_frase =frase_palindormo[::-1].lower()\n",
    "if frase_palindormo ==  nueva_frase:\n",
    "    print(\"Son iguales\")\n",
    "else:\n",
    "    print(\"No son iguales\")\n",
    "print(frase_palindormo ,  nueva_frase)"
   ]
  },
  {
   "attachments": {},
   "cell_type": "markdown",
   "metadata": {},
   "source": [
    "Ejercicio 9\n",
    "\n",
    "Escribir un programa que pida al usuario una palabra y muestre por pantalla el número de veces que contiene cada vocal."
   ]
  },
  {
   "cell_type": "code",
   "execution_count": 79,
   "metadata": {},
   "outputs": [
    {
     "name": "stdout",
     "output_type": "stream",
     "text": [
      "La letra \"a\"  aparece en la frase \"anita lava la tina\",  6 vece(s)\n",
      "La letra \"e\"  no aparece en la frase \"anita lava la tina\"\n",
      "La letra \"i\"  aparece en la frase \"anita lava la tina\",  2 vece(s)\n",
      "La letra \"o\"  no aparece en la frase \"anita lava la tina\"\n",
      "La letra \"u\"  no aparece en la frase \"anita lava la tina\"\n"
     ]
    }
   ],
   "source": [
    "vocales =[\"a\",\"e\", \"i\", \"o\", \"u\"]\n",
    "contador_letras=[]\n",
    "\n",
    "tu_palabra =input(\"Escribe una palabra: \").lower()\n",
    "\n",
    "for vocal in vocales:\n",
    "    if vocal in tu_palabra:\n",
    "           cuenta= tu_palabra.count(vocal)\n",
    "           contador_letras .append(cuenta)\n",
    "           print(f'La letra \"{vocal}\"  aparece en la frase \"{tu_palabra}\",  { contador_letras[-1]} vece(s)')\n",
    "    else:\n",
    "          print(f'La letra \"{vocal}\"  no aparece en la frase \"{tu_palabra}\"')"
   ]
  },
  {
   "cell_type": "code",
   "execution_count": null,
   "metadata": {},
   "outputs": [],
   "source": [
    "#Otra solución\n",
    "\n",
    "word = input(\"Introduce una palabra: \")\n",
    "vocals = ['a', 'e', 'i', 'o', 'u']\n",
    "for vocal in vocals: \n",
    "    times = 0\n",
    "    for letter in word: \n",
    "        if letter == vocal:\n",
    "            times += 1\n",
    "    print(\"La vocal \" + vocal + \" aparece \" + str(times) + \" veces\")"
   ]
  },
  {
   "attachments": {},
   "cell_type": "markdown",
   "metadata": {},
   "source": [
    "Ejercicio 10\n",
    "\n",
    "Escribir un programa que almacene en una lista los siguientes precios, 50, 75, 46, 22, 80, 65, 8, y muestre por pantalla el menor y el mayor de los precios."
   ]
  },
  {
   "cell_type": "code",
   "execution_count": 82,
   "metadata": {},
   "outputs": [
    {
     "name": "stdout",
     "output_type": "stream",
     "text": [
      "[80, 75, 65, 50, 46, 22, 8]\n"
     ]
    }
   ],
   "source": [
    "lista_precios = [50,75,46,22,80,65,8]\n",
    "nueva_lista_precios=sorted(lista_precios,reverse=True)\n",
    "\n",
    "print(nueva_lista_precios)\n"
   ]
  },
  {
   "attachments": {},
   "cell_type": "markdown",
   "metadata": {},
   "source": [
    "Ejercicio 11\n",
    "\n",
    "Escribir un programa que almacene los vectores (1,2,3) y (-1,0,2) en dos listas y muestre por pantalla su producto escalar."
   ]
  },
  {
   "cell_type": "code",
   "execution_count": null,
   "metadata": {},
   "outputs": [],
   "source": [
    "vector_1=[1,2,3]\n",
    "vector_2 = [-1,0,2]"
   ]
  },
  {
   "attachments": {},
   "cell_type": "markdown",
   "metadata": {},
   "source": [
    "Ejercicio 12\n",
    "\n",
    "Escribir un programa que almacene las matrices\n",
    "en una lista y muestre por pantalla su producto.\n",
    "\n",
    "<math xmlns=\"http://www.w3.org/1998/Math/MathML\" display=\"block\">\n",
    "  <mi>A</mi>\n",
    "  <mo>=</mo>\n",
    "  <mrow data-mjx-texclass=\"INNER\">\n",
    "    <mo data-mjx-texclass=\"OPEN\">(</mo>\n",
    "    <mtable columnalign=\"right right right\" columnspacing=\"1em\" rowspacing=\"4pt\">\n",
    "      <mtr>\n",
    "        <mtd>\n",
    "          <mn>1</mn>\n",
    "        </mtd>\n",
    "        <mtd>\n",
    "          <mn>2</mn>\n",
    "        </mtd>\n",
    "        <mtd>\n",
    "          <mn>3</mn>\n",
    "        </mtd>\n",
    "      </mtr>\n",
    "      <mtr>\n",
    "        <mtd>\n",
    "          <mn>4</mn>\n",
    "        </mtd>\n",
    "        <mtd>\n",
    "          <mn>5</mn>\n",
    "        </mtd>\n",
    "        <mtd>\n",
    "          <mn>6</mn>\n",
    "        </mtd>\n",
    "      </mtr>\n",
    "    </mtable>\n",
    "    <mo data-mjx-texclass=\"CLOSE\">)</mo>\n",
    "  </mrow>\n",
    "  <mstyle scriptlevel=\"0\">\n",
    "    <mspace width=\"1em\"></mspace>\n",
    "  </mstyle>\n",
    "  <mi>y</mi>\n",
    "  <mstyle scriptlevel=\"0\">\n",
    "    <mspace width=\"1em\"></mspace>\n",
    "  </mstyle>\n",
    "  <mi>B</mi>\n",
    "  <mo>=</mo>\n",
    "  <mrow data-mjx-texclass=\"INNER\">\n",
    "    <mo data-mjx-texclass=\"OPEN\">(</mo>\n",
    "    <mtable columnalign=\"right right\" columnspacing=\"1em\" rowspacing=\"4pt\">\n",
    "      <mtr>\n",
    "        <mtd>\n",
    "          <mo>&#x2212;</mo>\n",
    "          <mn>1</mn>\n",
    "        </mtd>\n",
    "        <mtd>\n",
    "          <mn>0</mn>\n",
    "        </mtd>\n",
    "      </mtr>\n",
    "            <mtr>\n",
    "        <mtd>\n",
    "          <mn>0</mn>\n",
    "        </mtd>\n",
    "        <mtd>\n",
    "          <mn>1</mn>\n",
    "        </mtd>\n",
    "      </mtr>\n",
    "      <mtr>\n",
    "        <mtd>\n",
    "          <mn>1</mn>\n",
    "        </mtd>\n",
    "        <mtd>\n",
    "          <mn>1</mn>\n",
    "        </mtd>\n",
    "      </mtr>\n",
    "    </mtable>\n",
    "    <mo data-mjx-texclass=\"CLOSE\">)</mo>\n",
    "  </mrow>\n",
    "</math>\n",
    "\n",
    "A = \\left(\n",
    "\\begin{array}{rrr}\n",
    "1 & 2 & 3\\newline\n",
    "4 & 5 & 6\n",
    "\\end{array}\n",
    "\\right)\n",
    "\\quad  y\n",
    "\\quad\n",
    "B = \\left(\n",
    "\\begin{array}{rr}\n",
    "-1 & 0\\newline\n",
    "0 & 1\\newline\n",
    "1 & 1\n",
    "\\end{array}\n",
    "\\right)\n",
    "\n",
    "Nota: Para representar matrices mediante listas usar listas anidadas, representando cada vector fila en una lista."
   ]
  },
  {
   "attachments": {},
   "cell_type": "markdown",
   "metadata": {},
   "source": [
    "Ejercicio 13\n",
    "\n",
    "Escribir un programa que pregunte por una muestra de números, separados por comas, los guarde en una lista y muestre por pantalla su media y desviación típica."
   ]
  },
  {
   "attachments": {},
   "cell_type": "markdown",
   "metadata": {},
   "source": [
    "Ejercicios de Diccionarios\n",
    "Ejercicio 1\n",
    "\n",
    "Escribir un programa que guarde en una variable el diccionario {'Euro':'€', 'Dollar':'$', 'Yen':'¥'}, pregunte al usuario por una divisa y muestre su símbolo o un mensaje de aviso si la divisa no está en el diccionario."
   ]
  },
  {
   "cell_type": "code",
   "execution_count": 63,
   "metadata": {},
   "outputs": [],
   "source": [
    "vari_dicc = {'Euro':'€', 'Dollar':'$', 'Yen':'¥' }\n",
    "cual_divisa= input(\"Dime una divisa y te doy su simbolo\" )\n"
   ]
  },
  {
   "cell_type": "code",
   "execution_count": 65,
   "metadata": {},
   "outputs": [
    {
     "name": "stdout",
     "output_type": "stream",
     "text": [
      "€\n"
     ]
    }
   ],
   "source": [
    "vari_dicc = {'Euro':'€', 'Dollar':'$', 'Yen':'¥' }\n",
    "cual_divisa= input(\"Dime una divisa y te doy su simbolo\" )\n",
    " \n",
    "if cual_divisa in vari_dicc:\n",
    "        divisa=vari_dicc[cual_divisa]\n",
    "        print(divisa)\n",
    "else:\n",
    "         print(\"La divisa no existe o fue escrita incorrectamente\")"
   ]
  },
  {
   "cell_type": "code",
   "execution_count": 44,
   "metadata": {},
   "outputs": [
    {
     "name": "stdout",
     "output_type": "stream",
     "text": [
      "dict_keys(['Euro', 'Dollar', 'Yen'])\n",
      "dict_keys(['Euro', 'Dollar', 'Yen'])\n",
      "dict_keys(['Euro', 'Dollar', 'Yen'])\n"
     ]
    }
   ],
   "source": [
    "for i in vari_dicc.keys():\n",
    "    print(vari_dicc.keys())"
   ]
  },
  {
   "cell_type": "code",
   "execution_count": 40,
   "metadata": {},
   "outputs": [
    {
     "data": {
      "text/plain": [
       "'verde'"
      ]
     },
     "execution_count": 40,
     "metadata": {},
     "output_type": "execute_result"
    }
   ],
   "source": [
    "lista=[\"azul\", \"rojo\",\"verde\"]\n",
    "\n",
    "color=lista[2]\n",
    "color"
   ]
  },
  {
   "attachments": {},
   "cell_type": "markdown",
   "metadata": {},
   "source": [
    "Ejercicio 2\n",
    "\n",
    "Escribir un programa que pregunte al usuario su nombre, edad, dirección y teléfono y lo guarde en un diccionario. Después debe mostrar por pantalla el mensaje <nombre> tiene <edad> años, vive en <dirección> y su número de teléfono es <teléfono>."
   ]
  },
  {
   "cell_type": "code",
   "execution_count": 70,
   "metadata": {},
   "outputs": [
    {
     "data": {
      "text/plain": [
       "{'Name': 'Fernando', 'Age': '32', 'Adress': 'Huehuetoca', 'Phone': 553746}"
      ]
     },
     "execution_count": 70,
     "metadata": {},
     "output_type": "execute_result"
    }
   ],
   "source": [
    "datos_personales={}\n",
    "\n",
    "datos_personales[\"Name\"] =input(\"Cual es tu nombre: \" )\n",
    "datos_personales[\"Age\"] =input(\"Cual es tu edad: \" )\n",
    "datos_personales[\"Adress\"] =input(\"Cual es tu direccion: \" )\n",
    "datos_personales[\"Phone\"] =int(input(\"Cual es tu numero telefonico: \" ))\n",
    "\n",
    "datos_personales"
   ]
  },
  {
   "cell_type": "code",
   "execution_count": 79,
   "metadata": {},
   "outputs": [
    {
     "name": "stdout",
     "output_type": "stream",
     "text": [
      "Tu nombre es Fernando\n"
     ]
    }
   ],
   "source": [
    "\n",
    "print(f'Tu nombre es {datos_personales[\"Name\"]}')"
   ]
  },
  {
   "cell_type": "code",
   "execution_count": null,
   "metadata": {},
   "outputs": [],
   "source": []
  },
  {
   "cell_type": "code",
   "execution_count": 1,
   "metadata": {},
   "outputs": [
    {
     "data": {
      "text/plain": [
       "6"
      ]
     },
     "execution_count": 1,
     "metadata": {},
     "output_type": "execute_result"
    }
   ],
   "source": [
    "25>>2"
   ]
  }
 ],
 "metadata": {
  "kernelspec": {
   "display_name": "Python 3",
   "language": "python",
   "name": "python3"
  },
  "language_info": {
   "codemirror_mode": {
    "name": "ipython",
    "version": 3
   },
   "file_extension": ".py",
   "mimetype": "text/x-python",
   "name": "python",
   "nbconvert_exporter": "python",
   "pygments_lexer": "ipython3",
   "version": "3.10.11"
  },
  "orig_nbformat": 4
 },
 "nbformat": 4,
 "nbformat_minor": 2
}
